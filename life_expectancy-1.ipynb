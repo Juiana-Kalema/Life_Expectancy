{
 "cells": [
  {
   "cell_type": "markdown",
   "id": "f7f06938",
   "metadata": {},
   "source": [
    "# Life Expectancy Data Science Project\n",
    "\n",
    "---------------------------------------------\n",
    "\n",
    "### Introduction\n",
    "This analysis explores a life expectancy dataset, aiming to uncover factors affecting life expectancy across countries over time. We'll handle missing values, engineer features, perform exploratory analysis, visualize patterns, and build a regression model to predict life expectancy."
   ]
  },
  {
   "cell_type": "markdown",
   "id": "b505a440",
   "metadata": {},
   "source": [
    "### Objectives\n",
    "- Understand the structure and quality of the dataset\n",
    "- Identify key features affecting life expectancy\n",
    "- Handle missing data appropriately\n",
    "- Engineer new features to improve prediction\n",
    "- Visualize relationships and trends\n",
    "- Build a regression model to predict life expectancy\n",
    "- Evaluate model performance using cross-validation\n",
    "- Derive actionable insights"
   ]
  },
  {
   "cell_type": "markdown",
   "id": "ab1637f4",
   "metadata": {},
   "source": [
    "### Task 1: Explore Dataset and Missing Values"
   ]
  },
  {
   "cell_type": "code",
   "execution_count": 44,
   "id": "abd2656d",
   "metadata": {},
   "outputs": [],
   "source": [
    "import numpy as np\n",
    "import pandas as pd\n",
    "import matplotlib.pyplot as plt\n",
    "import seaborn as sns\n",
    "import plotly.express as px\n",
    "from sklearn.model_selection import train_test_split, cross_val_score\n",
    "from sklearn.linear_model import LinearRegression\n",
    "from sklearn.metrics import mean_absolute_error, r2_score\n",
    "from sklearn.experimental import enable_iterative_imputer\n",
    "from sklearn.impute import IterativeImputer\n",
    "from scipy.stats.mstats import winsorize\n",
    "import re"
   ]
  },
  {
   "cell_type": "code",
   "execution_count": null,
   "id": "994d8af3",
   "metadata": {},
   "outputs": [],
   "source": [
    "df = pd.read_csv('Life_Expectancy_Data.csv')\n",
    "df.shape "
   ]
  },
  {
   "cell_type": "code",
   "execution_count": null,
   "id": "e5d25cd6",
   "metadata": {},
   "outputs": [],
   "source": [
    "df.dtypes"
   ]
  },
  {
   "cell_type": "code",
   "execution_count": null,
   "id": "7fb2a761",
   "metadata": {},
   "outputs": [],
   "source": [
    "df.dtypes.value_counts()"
   ]
  },
  {
   "cell_type": "code",
   "execution_count": null,
   "id": "464a8af4",
   "metadata": {},
   "outputs": [],
   "source": [
    "df.columns"
   ]
  },
  {
   "cell_type": "code",
   "execution_count": 45,
   "id": "7dae33c2",
   "metadata": {},
   "outputs": [
    {
     "data": {
      "text/plain": [
       "Index(['Country', 'Year', 'Status', 'Life expectancy', 'Adult Mortality',\n",
       "       'infant deaths', 'Alcohol', 'percentage expenditure', 'Hepatitis B',\n",
       "       'Measles', 'BMI', 'under-five deaths', 'Polio', 'Total expenditure',\n",
       "       'Diphtheria', 'HIV/AIDS', 'GDP', 'Population', 'thinness 1-19 years',\n",
       "       'thinness 5-9 years', 'Income composition of resources', 'Schooling',\n",
       "       'Health Spending Ratio', 'Deaths per Infant'],\n",
       "      dtype='object')"
      ]
     },
     "execution_count": 45,
     "metadata": {},
     "output_type": "execute_result"
    }
   ],
   "source": [
    "\n",
    "for column in df.columns:\n",
    "    # Remove leading/trailing spaces and compress multiple spaces into single spaces\n",
    "    cleaned_column = re.sub(r'\\s+', ' ', column.strip())\n",
    "    df.rename(columns={column: cleaned_column}, inplace=True)\n",
    "\n",
    "df.columns"
   ]
  },
  {
   "cell_type": "code",
   "execution_count": null,
   "id": "1719f59f",
   "metadata": {},
   "outputs": [],
   "source": [
    "df.head(20)"
   ]
  },
  {
   "cell_type": "code",
   "execution_count": null,
   "id": "699a90d0",
   "metadata": {},
   "outputs": [],
   "source": [
    "print(df.duplicated())"
   ]
  },
  {
   "cell_type": "code",
   "execution_count": null,
   "id": "66d9f4fd",
   "metadata": {},
   "outputs": [],
   "source": [
    "#Find total of duplicated values\n",
    "print(df.duplicated().sum())"
   ]
  },
  {
   "cell_type": "code",
   "execution_count": null,
   "id": "aaebef49",
   "metadata": {},
   "outputs": [],
   "source": [
    "# Get the number of unique countries from the 'Country' column\n",
    "number_of_countries = df['Country'].nunique()\n",
    "\n",
    "# Print the number of unique countries\n",
    "print(f\"The total number of unique countries in the dataset is: {number_of_countries}\")"
   ]
  },
  {
   "cell_type": "markdown",
   "id": "4d9dae62",
   "metadata": {},
   "source": [
    "### Task 2: Handle Missing Data and Justify Method"
   ]
  },
  {
   "cell_type": "code",
   "execution_count": null,
   "id": "c32ebf41",
   "metadata": {},
   "outputs": [],
   "source": [
    "null_values = df.isnull().sum()"
   ]
  },
  {
   "cell_type": "code",
   "execution_count": null,
   "id": "a9a4dd8c",
   "metadata": {},
   "outputs": [],
   "source": [
    "#Checks if any column has NaN\n",
    "df.isnull().any()"
   ]
  },
  {
   "cell_type": "code",
   "execution_count": null,
   "id": "c1933df1",
   "metadata": {},
   "outputs": [],
   "source": [
    "#Checks if any row has NaN\n",
    "df.isnull().any(axis=1)"
   ]
  },
  {
   "cell_type": "code",
   "execution_count": null,
   "id": "1777cc18",
   "metadata": {},
   "outputs": [],
   "source": [
    "#Checks if all values in a column are NaN\n",
    "df.isnull().all()"
   ]
  },
  {
   "cell_type": "code",
   "execution_count": null,
   "id": "ff62da94",
   "metadata": {},
   "outputs": [],
   "source": [
    "#Checks if all values in a row are NaN\n",
    "df.isnull().all(axis=1)"
   ]
  },
  {
   "cell_type": "code",
   "execution_count": null,
   "id": "bdb0f505",
   "metadata": {},
   "outputs": [],
   "source": [
    "null_percentage = (df.isnull().sum() / len(df))*100\n",
    "print(null_percentage)"
   ]
  },
  {
   "cell_type": "code",
   "execution_count": null,
   "id": "25509de2",
   "metadata": {},
   "outputs": [],
   "source": [
    "missing_df = pd.DataFrame({'Missing Values': null_values, 'Percent Missing': null_percentage})\n",
    "missing_df[missing_df['Missing Values'] > 0]"
   ]
  },
  {
   "cell_type": "markdown",
   "id": "545100cd",
   "metadata": {},
   "source": [
    "Advanced mechanisms to handle missing data"
   ]
  },
  {
   "cell_type": "code",
   "execution_count": null,
   "id": "cc3abe8c",
   "metadata": {},
   "outputs": [],
   "source": [
    "import pandas as pd\n",
    "import numpy as np\n",
    "from scipy.stats import zscore\n",
    "\n",
    "# Load your dataset\n",
    "df = pd.read_csv(\"Life_Expectancy_Data.csv\")\n",
    "df.columns = df.columns.str.strip()  # Clean column names\n",
    "\n",
    "# Get numerical features only\n",
    "num_features = df.select_dtypes(include='number').columns\n",
    "\n",
    "# Initialize DataFrame to store outlier flags\n",
    "outliers_df = pd.DataFrame(False, index=df.index, columns=num_features)\n",
    "\n",
    "import warnings\n",
    "\n",
    "# Detect outliers by country (improved)\n",
    "for country, group in df.groupby(\"Country\"):\n",
    "    group_index = group.index\n",
    "    group_numeric = group[num_features]\n",
    "\n",
    "    # Filter columns with non-zero std to avoid division by 0\n",
    "    valid_cols = group_numeric.loc[:, group_numeric.std() > 0]\n",
    "\n",
    "    if valid_cols.empty:\n",
    "        continue  # Skip if all stds are zero\n",
    "\n",
    "    # Suppress only this specific warning\n",
    "    with warnings.catch_warnings():\n",
    "        warnings.filterwarnings(\"ignore\", message=\".*Precision loss occurred.*\")\n",
    "        z_scores = valid_cols.apply(zscore, nan_policy='omit')\n",
    "\n",
    "    # Mark outliers for these valid columns\n",
    "    outliers = np.abs(z_scores) > 3\n",
    "    outliers_df.loc[group_index, valid_cols.columns] = outliers\n",
    "\n",
    "\n",
    "# Count outliers per feature\n",
    "outlier_counts = outliers_df.sum().sort_values(ascending=False)\n",
    "\n",
    "# Show results\n",
    "print(\"✅ Country-wise Outlier Counts per Feature:\")\n",
    "print(outlier_counts)\n"
   ]
  },
  {
   "cell_type": "code",
   "execution_count": null,
   "id": "a314a08f",
   "metadata": {},
   "outputs": [],
   "source": [
    "import pandas as pd\n",
    "import seaborn as sns\n",
    "import matplotlib.pyplot as plt\n",
    "\n",
    "# === Select features to plot ===\n",
    "features = ['Polio', 'Diphtheria', 'Income composition of resources',\n",
    "            'HIV/AIDS', 'thinness  1-19 years', 'thinness 5-9 years']\n",
    "\n",
    "# === Melt into long format ===\n",
    "df_melted = df[['Country'] + features].melt(id_vars='Country', var_name='Feature', value_name='Value')\n",
    "\n",
    "# === Normalize per Country and Feature ===\n",
    "def scale_country_feature(group):\n",
    "    q1 = group['Value'].quantile(0.25)\n",
    "    q3 = group['Value'].quantile(0.75)\n",
    "    iqr = q3 - q1 if q3 > q1 else 1  # avoid zero division\n",
    "    group['Scaled'] = group['Value'].clip(q1 - 1.5 * iqr, q3 + 1.5 * iqr)\n",
    "    return group\n",
    "\n",
    "df_scaled = df_melted.groupby(['Country', 'Feature'], group_keys=False).apply(scale_country_feature)\n",
    "\n",
    "# === Plot all features together ===\n",
    "plt.figure(figsize=(14, 6))\n",
    "sns.boxplot(data=df_scaled, x='Feature', y='Scaled')\n",
    "plt.title(\"Boxplot of Selected Features (Outliers Detected per Country)\")\n",
    "plt.xticks(rotation=45)\n",
    "plt.tight_layout()\n",
    "plt.show()\n"
   ]
  },
  {
   "cell_type": "code",
   "execution_count": null,
   "id": "207d5646",
   "metadata": {},
   "outputs": [],
   "source": [
    "import pandas as pd\n",
    "import seaborn as sns\n",
    "import matplotlib.pyplot as plt\n",
    "\n",
    "# === Select features to plot ===\n",
    "features = ['Measles', 'GDP','percentage expenditure', 'Adult Mortality', 'under-five deaths']\n",
    "\n",
    "# === Melt into long format ===\n",
    "df_melted = df[['Country'] + features].melt(id_vars='Country', var_name='Feature', value_name='Value')\n",
    "\n",
    "# === Normalize per Country and Feature ===\n",
    "def scale_country_feature(group):\n",
    "    q1 = group['Value'].quantile(0.25)\n",
    "    q3 = group['Value'].quantile(0.75)\n",
    "    iqr = q3 - q1 if q3 > q1 else 1  # avoid zero division\n",
    "    group['Scaled'] = group['Value'].clip(q1 - 1.5 * iqr, q3 + 1.5 * iqr)\n",
    "    return group\n",
    "\n",
    "df_scaled = df_melted.groupby(['Country', 'Feature'], group_keys=False).apply(scale_country_feature)\n",
    "\n",
    "# === Plot all features together ===\n",
    "plt.figure(figsize=(14, 6))\n",
    "sns.boxplot(data=df_scaled, x='Feature', y='Scaled')\n",
    "plt.title(\"Boxplot of Selected Features (Outliers Detected per Country)\")\n",
    "plt.xticks(rotation=45)\n",
    "plt.tight_layout()\n",
    "plt.show()"
   ]
  },
  {
   "cell_type": "code",
   "execution_count": null,
   "id": "6e1e3eb1",
   "metadata": {},
   "outputs": [],
   "source": [
    "import pandas as pd\n",
    "import seaborn as sns\n",
    "import matplotlib.pyplot as plt\n",
    "\n",
    "# === First feature group ===\n",
    "features_1 = ['Polio', 'Diphtheria', 'Income composition of resources',\n",
    "              'HIV/AIDS', 'thinness  1-19 years', 'thinness 5-9 years']\n",
    "\n",
    "# === Second feature group ===\n",
    "features_2 = ['Measles', 'GDP', 'percentage expenditure', 'Adult Mortality', 'under-five deaths', 'Total expenditure']\n",
    "\n",
    "features_3 = ['Population', 'Alcohol', 'Schooling', 'BMI', 'Life expectancy', 'Hepatitis B']\n",
    "\n",
    "# === Prepare melted data for both groups ===\n",
    "def melt_and_tag_outliers(df, features):\n",
    "    melted = df[['Country'] + features].melt(id_vars='Country', var_name='Feature', value_name='Value')\n",
    "\n",
    "    def detect_and_tag_outliers(group):\n",
    "        q1 = group['Value'].quantile(0.25)\n",
    "        q3 = group['Value'].quantile(0.75)\n",
    "        iqr = q3 - q1\n",
    "        lower = q1 - 1.5 * iqr\n",
    "        upper = q3 + 1.5 * iqr\n",
    "        group['Outlier'] = (group['Value'] < lower) | (group['Value'] > upper)\n",
    "        return group\n",
    "\n",
    "    tagged = melted.groupby(['Country', 'Feature'], group_keys=False).apply(detect_and_tag_outliers)\n",
    "    return tagged\n",
    "\n",
    "df_tagged_1 = melt_and_tag_outliers(df, features_1)\n",
    "df_tagged_2 = melt_and_tag_outliers(df, features_2)\n",
    "df_tagged_3 = melt_and_tag_outliers(df, features_3)\n",
    "\n",
    "# === Create subplots ===\n",
    "fig, (ax1, ax2, ax3) = plt.subplots(nrows=3, figsize=(14, 30))  # reduce figure height\n",
    "\n",
    "\n",
    "# --- Plot 1 ---\n",
    "sns.boxplot(data=df_tagged_1, x='Feature', y='Value', showfliers=False, ax=ax1)\n",
    "sns.stripplot(\n",
    "    data=df_tagged_1[df_tagged_1['Outlier']],\n",
    "    x='Feature',\n",
    "    y='Value',\n",
    "    hue='Country',\n",
    "    dodge=True,\n",
    "    jitter=True,\n",
    "    marker='o',\n",
    "    alpha=0.6,\n",
    "    linewidth=0.5,\n",
    "    edgecolor='gray',\n",
    "    palette='tab20',\n",
    "    ax=ax1\n",
    ")\n",
    "ax1.set_title(\"Group 1: Country-Based Outliers (Polio, Diphtheria, etc.)\")\n",
    "ax1.tick_params(axis='x', rotation=45)\n",
    "ax1.legend_.remove()\n",
    "\n",
    "\n",
    "# --- Plot 2 ---\n",
    "sns.boxplot(data=df_tagged_2, x='Feature', y='Value', showfliers=False, ax=ax2)\n",
    "sns.stripplot(\n",
    "    data=df_tagged_2[df_tagged_2['Outlier']],\n",
    "    x='Feature',\n",
    "    y='Value',\n",
    "    hue='Country',\n",
    "    dodge=True,\n",
    "    jitter=True,\n",
    "    marker='o',\n",
    "    alpha=0.6,\n",
    "    linewidth=0.5,\n",
    "    edgecolor='gray',\n",
    "    palette='tab20',\n",
    "    ax=ax2\n",
    ")\n",
    "ax2.set_title(\"Group 2: Country-Based Outliers (Measles, GDP, etc.)\")\n",
    "ax2.tick_params(axis='x', rotation=45)\n",
    "\n",
    "ax2.legend_.remove()\n",
    "\n",
    "# --- Plot 3 ---\n",
    "sns.boxplot(data=df_tagged_3, x='Feature', y='Value', showfliers=False, ax=ax3)\n",
    "sns.stripplot(\n",
    "    data=df_tagged_3[df_tagged_3['Outlier']],\n",
    "    x='Feature',\n",
    "    y='Value',\n",
    "    hue='Country',\n",
    "    dodge=True,\n",
    "    jitter=True,\n",
    "    marker='o',\n",
    "    alpha=0.6,\n",
    "    linewidth=0.5,\n",
    "    edgecolor='gray',\n",
    "    palette='tab20',\n",
    "    ax=ax3\n",
    ")\n",
    "ax3.set_title(\"Group 3: Country-Based Outliers (Population, Alcohol, etc.)\")\n",
    "ax3.tick_params(axis='x', rotation=45)\n",
    "ax3.legend_.remove()\n",
    "\n",
    "\n",
    "# === Add legend outside the full figure ===\n",
    "handles, labels = ax2.get_legend_handles_labels()\n",
    "fig.legend(handles, labels, title='Country', bbox_to_anchor=(1.02, 0.5), loc='center left')\n",
    "plt.show()\n"
   ]
  },
  {
   "cell_type": "code",
   "execution_count": null,
   "id": "0017c20b",
   "metadata": {},
   "outputs": [],
   "source": [
    "import pandas as pd\n",
    "from scipy.stats import median_abs_deviation\n",
    "\n",
    "# === Initialize tracker ===\n",
    "outlier_indices_per_column = {col: set() for col in df.select_dtypes(include='number').columns}\n",
    "\n",
    "# === Modified Z-Score function ===\n",
    "def detect_outliers_modified_z(series, threshold=3.5):\n",
    "    median = series.median()\n",
    "    mad = median_abs_deviation(series, scale='normal')  # scaled to be comparable to std\n",
    "    if mad == 0:\n",
    "        return pd.Series([False] * len(series), index=series.index)\n",
    "    z_scores = 0.6745 * (series - median) / mad\n",
    "    return abs(z_scores) > threshold\n",
    "\n",
    "# === Process per country ===\n",
    "for country, group in df.groupby('Country'):\n",
    "    for col in df.select_dtypes(include='number').columns:\n",
    "        is_outlier = detect_outliers_modified_z(group[col])\n",
    "        outlier_indices_per_column[col].update(group[is_outlier].index)\n",
    "\n",
    "# === Build summary table ===\n",
    "summary = []\n",
    "for col, indices in outlier_indices_per_column.items():\n",
    "    count = len(indices)\n",
    "    summary.append({\n",
    "        'Column': col,\n",
    "        'Outlier Count': count,\n",
    "        'Percentage': round((count / len(df)) * 100, 2)\n",
    "    })\n",
    "\n",
    "# === Create DataFrame and show results ===\n",
    "outlier_summary = pd.DataFrame(summary).sort_values(by='Outlier Count', ascending=False)\n",
    "\n",
    "print(\"📊 Outlier Detection Summary (Modified Z-Score per Country, Unique Rows Only)\")\n",
    "print(\"=\" * 70)\n",
    "print(outlier_summary.to_string(index=False))\n"
   ]
  },
  {
   "cell_type": "markdown",
   "id": "ad7f1923",
   "metadata": {},
   "source": [
    "### Implementation of Data handling "
   ]
  },
  {
   "cell_type": "code",
   "execution_count": null,
   "id": "49ee6026",
   "metadata": {},
   "outputs": [],
   "source": [
    "import pandas as pd\n",
    "import numpy as np\n",
    "from scipy.stats.mstats import winsorize\n",
    "\n",
    "# === Load dataset ===\n",
    "try:\n",
    "    df = pd.read_csv(\"Life_Expectancy_Data.csv\")\n",
    "    df.columns = df.columns.str.strip()\n",
    "    print(\"Dataset loaded successfully.\")\n",
    "except FileNotFoundError:\n",
    "    print(\"Error: 'Life_Expectancy_Data.csv' not found.\")\n",
    "    exit()\n",
    "\n",
    "# === Define feature categories ===\n",
    "# These will use percentile-based capping due to skewness\n",
    "skewed_features = ['Adult Mortality']\n",
    "# These will use IQR capping\n",
    "iqr_features = ['Polio', 'Diphtheria', 'Hepatitis B',\n",
    "                'Total expenditure', 'percentage expenditure']\n",
    "# These will use log transformation\n",
    "log_transform_features = ['Measles', 'Population', 'Alcohol']\n",
    "\n",
    "\n",
    "# All features to process\n",
    "all_features = skewed_features + iqr_features + log_transform_features \n",
    "\n",
    "# === Impute missing values using country-wise median ===\n",
    "print(\"🔧 Imputing missing values with country-wise median...\")\n",
    "for col in all_features:\n",
    "    if col in df.columns:\n",
    "        df[col] = df.groupby('Country')[col].transform(lambda x: x.fillna(x.median()))\n",
    "        if df[col].isnull().any():\n",
    "            df[col].fillna(df[col].median(), inplace=True)\n",
    "print(\"Imputation complete.\")\n",
    "\n",
    "# === Helper Functions ===\n",
    "\n",
    "def percentile_cap_grouped(df, col, lower=0.01, upper=0.99):\n",
    "    \"\"\"Apply percentile capping per country.\"\"\"\n",
    "    def cap(x):\n",
    "        return x.clip(lower=x.quantile(lower), upper=x.quantile(upper))\n",
    "    return df.groupby(\"Country\")[col].transform(cap)\n",
    "\n",
    "def iqr_cap_grouped(df, col):\n",
    "    \"\"\"Apply IQR capping per country.\"\"\"\n",
    "    def cap(x):\n",
    "        q1 = x.quantile(0.25)\n",
    "        q3 = x.quantile(0.75)\n",
    "        iqr = q3 - q1\n",
    "        if iqr == 0 or x.isnull().all():\n",
    "            return x\n",
    "        lower = q1 - 1.5 * iqr\n",
    "        upper = q3 + 1.5 * iqr\n",
    "        return x.clip(lower, upper)\n",
    "    return df.groupby(\"Country\")[col].transform(cap)\n",
    "\n",
    "def apply_log_transform_safely(x):\n",
    "    \"\"\"Log transform safely, avoiding log(0).\"\"\"\n",
    "    return np.log1p(x.clip(lower=0))\n",
    "\n",
    "# === Apply transformations ===\n",
    "print(\"\\nApplying transformations and tracking changes...\")\n",
    "df_cleaned = df.copy()\n",
    "changes_summary = {}\n",
    "\n",
    "# 1. Percentile Capping → skewed features\n",
    "for col in skewed_features:\n",
    "    if col in df_cleaned.columns:\n",
    "        before = df_cleaned[col].copy()\n",
    "        df_cleaned[col] = percentile_cap_grouped(df_cleaned, col)\n",
    "        changes_summary[col] = (df_cleaned[col] != before).sum()\n",
    "        print(f\"✔ Percentile Capped → {col}: {changes_summary[col]} values modified\")\n",
    "\n",
    "# 2. IQR Capping → other features\n",
    "for col in iqr_features:\n",
    "    if col in df_cleaned.columns:\n",
    "        before = df_cleaned[col].copy()\n",
    "        df_cleaned[col] = iqr_cap_grouped(df_cleaned, col)\n",
    "        changes_summary[col] = (df_cleaned[col] != before).sum()\n",
    "        print(f\"✔ IQR Capped → {col}: {changes_summary[col]} values modified\")\n",
    "\n",
    "# 3. Log Transform → log_transform_features\n",
    "for col in log_transform_features:\n",
    "    if col in df_cleaned.columns:\n",
    "        before = df_cleaned[col].copy()\n",
    "        df_cleaned[col] = apply_log_transform_safely(df_cleaned[col])\n",
    "        changes_summary[col] = (df_cleaned[col] != before).sum()\n",
    "        print(f\"✔ Log Transformed → {col}: {changes_summary[col]} values modified\")\n",
    "\n",
    "# === Save cleaned dataset ===\n",
    "final_cols = ['Country', 'Year', 'Life expectancy'] + all_features\n",
    "final_cols = [col for col in final_cols if col in df_cleaned.columns]\n",
    "df_final = df_cleaned[final_cols]\n",
    "df_final.to_csv(\"Cleaned_Life_Expectancy_Countrywise_Final.csv\", index=False)\n",
    "\n",
    "# === Summary ===\n",
    "print(\"\\n✅ Final Summary of Outlier Handling:\")\n",
    "for col, count in changes_summary.items():\n",
    "    if col in skewed_features:\n",
    "        method = \"Percentile Capped\"\n",
    "    elif col in iqr_features:\n",
    "        method = \"IQR Capped\"\n",
    "    else:\n",
    "        method = \"Log Transformed\"\n",
    "    print(f\"✔ {method} → {col}: {count} values modified\")\n",
    "\n",
    "print(\"\\n📁 Cleaned dataset saved as: Cleaned_Life_Expectancy_Countrywise_Final.csv\")\n"
   ]
  },
  {
   "cell_type": "code",
   "execution_count": null,
   "id": "d2fbd23b",
   "metadata": {},
   "outputs": [],
   "source": [
    "# Handling missing values for BMI separately\n",
    "\n",
    "# --- Step 1: Identify invalid BMI values ---\n",
    "invalid_bmi_mask = (df['BMI'] < 15) | (df['BMI'] > 40)\n",
    "num_bmi_replaced = invalid_bmi_mask.sum()\n",
    "\n",
    "# --- Step 2: Replace invalid values with NaN ---\n",
    "df['BMI'] = df['BMI'].mask(invalid_bmi_mask, np.nan)\n",
    "\n",
    "# --- Step 3: Impute missing BMI values using MICE based on Life expectancy ---\n",
    "imputer = IterativeImputer(random_state=42)\n",
    "# Select relevant columns for MICE\n",
    "imputed_values = imputer.fit_transform(df[['Life expectancy', 'BMI']])\n",
    "df[['Life expectancy', 'BMI']] = imputed_values\n",
    "\n",
    "# --- Step 4: Extract cleaned BMI data ---\n",
    "cleaned_bmi_df = df[['Country', 'Year', 'BMI']].copy()\n",
    "\n",
    "# --- Output Summary ---\n",
    "print(f\"{num_bmi_replaced} invalid BMI values were replaced with NaN and imputed using MICE.\")\n",
    "print(\"\\nCleaned BMI Dataset (Sample):\")\n",
    "print(cleaned_bmi_df.head(10))\n",
    "\n",
    "# Optional: Save to CSV\n",
    "cleaned_bmi_df.to_csv(\"cleaned_bmi_data.csv\", index=False)"
   ]
  },
  {
   "cell_type": "code",
   "execution_count": null,
   "id": "c17d5e1b",
   "metadata": {},
   "outputs": [],
   "source": [
    "# --- Step 0: Initial State ---\n",
    "print(\"\\n--- Initial State of GDP Column ---\")\n",
    "initial_missing_gdp = df['GDP'].isnull().sum()\n",
    "print(f\"Number of missing GDP values initially: {initial_missing_gdp}\")\n",
    "\n",
    "# --- Step 1: Detect Outliers on a Per-Country Basis ---\n",
    "print(\"\\n--- Step 1: Detecting Outliers for Each Country Individually ---\")\n",
    "\n",
    "def get_country_upper_bound(series):\n",
    "    q3 = series.quantile(0.75)\n",
    "    iqr = q3 - series.quantile(0.25)\n",
    "    return q3 + 1.5 * iqr\n",
    "\n",
    "def get_country_lower_bound(series):\n",
    "    q1 = series.quantile(0.25)\n",
    "    iqr = series.quantile(0.75) - q1\n",
    "    iqr_lower_bound = q1 - 1.5 * iqr\n",
    "    domain_lower_bound = 100.0\n",
    "    return max(iqr_lower_bound, domain_lower_bound)\n",
    "\n",
    "# Apply outlier bounds per country\n",
    "country_upper_bounds = df.groupby('Country')['GDP'].transform(get_country_upper_bound)\n",
    "country_lower_bounds = df.groupby('Country')['GDP'].transform(get_country_lower_bound)\n",
    "\n",
    "outlier_mask = (df['GDP'] < country_lower_bounds) | (df['GDP'] > country_upper_bounds)\n",
    "outliers = df[outlier_mask]\n",
    "\n",
    "print(f\"Number of GDP outliers detected across all countries: {len(outliers)}\")\n",
    "if not outliers.empty:\n",
    "    print(\"Sample of detected outliers:\")\n",
    "    print(outliers[['Country', 'Year', 'GDP']].head())\n",
    "\n",
    "# --- Step 2: Mark Outliers as NaN ---\n",
    "print(\"\\n--- Step 2: Marking Outliers as NaN ---\")\n",
    "df.loc[outlier_mask, 'GDP'] = np.nan\n",
    "total_missing_after_marking = df['GDP'].isnull().sum()\n",
    "print(f\"Total GDP values now missing (NaN): {total_missing_after_marking}\")\n",
    "\n",
    "# --- Step 3: Impute with Country-Specific Mean ---\n",
    "country_gdp_mean = df.groupby('Country')['GDP'].transform('mean')\n",
    "df['GDP'].fillna(country_gdp_mean, inplace=True)\n",
    "\n",
    "# Fallback to global mean if any still missing\n",
    "global_gdp_mean = df['GDP'].mean()\n",
    "df['GDP'].fillna(global_gdp_mean, inplace=True)\n",
    "\n",
    "# --- Step 4: Extract Cleaned GDP Data ---\n",
    "print(\"\\n--- Step 4: Extracting Cleaned GDP Data ---\")\n",
    "cleaned_gdp_df = df[['Country', 'Year', 'GDP']].copy()\n",
    "print(\"✅ GDP cleaned successfully. Sample:\")\n",
    "print(cleaned_gdp_df.head(10))\n",
    "\n",
    "# Optional: Save to CSV\n",
    "cleaned_gdp_df.to_csv(\"cleaned_gdp_data.csv\", index=False)\n"
   ]
  },
  {
   "cell_type": "markdown",
   "id": "faebbb78",
   "metadata": {},
   "source": [
    "### Task 3: Apply Chosen Method and Evaluate"
   ]
  },
  {
   "cell_type": "code",
   "execution_count": null,
   "id": "2c6e0c63",
   "metadata": {},
   "outputs": [],
   "source": [
    "numeric_columns = df.select_dtypes(include = 'number')\n",
    "df.fillna(df.mean(numeric_only=True), inplace=True)\n",
    "df.isnull().sum()"
   ]
  },
  {
   "cell_type": "code",
   "execution_count": null,
   "id": "6db1fe4f",
   "metadata": {},
   "outputs": [],
   "source": [
    "nonNumericColumns = df.select_dtypes(include = 'object')\n",
    "for column in nonNumericColumns.columns:\n",
    "    df[column].fillna(df[column].mode()[0])\n",
    "    \n",
    "df.isnull().sum()"
   ]
  },
  {
   "cell_type": "markdown",
   "id": "0103c986",
   "metadata": {},
   "source": [
    "### Task 4: Identify Potential Features"
   ]
  },
  {
   "cell_type": "code",
   "execution_count": null,
   "id": "4bbe0990",
   "metadata": {},
   "outputs": [],
   "source": [
    "# Display all columns in the DataFrame\n",
    "pd.set_option('display.max_columns', None)\n",
    "#Description of the dataset transposed\n",
    "df.describe(include='all')"
   ]
  },
  {
   "cell_type": "markdown",
   "id": "b49f77bf",
   "metadata": {},
   "source": [
    "###  Task 5: Feature Engineering"
   ]
  },
  {
   "cell_type": "code",
   "execution_count": null,
   "id": "243a5b29",
   "metadata": {},
   "outputs": [],
   "source": [
    "df['Health Spending Ratio'] = df['Total expenditure'] / df['GDP']\n",
    "df['Deaths per Infant'] = df['infant deaths'] / df['Population']"
   ]
  },
  {
   "cell_type": "markdown",
   "id": "080934cd",
   "metadata": {},
   "source": [
    "### Task 6: Impact of New Features"
   ]
  },
  {
   "cell_type": "code",
   "execution_count": null,
   "id": "b796de68",
   "metadata": {},
   "outputs": [],
   "source": [
    "df[['Health Spending Ratio', 'Deaths per Infant']].describe()"
   ]
  },
  {
   "cell_type": "markdown",
   "id": "c8a32ec8",
   "metadata": {},
   "source": [
    "### Task 7: Select Key Variables for Visualization"
   ]
  },
  {
   "cell_type": "code",
   "execution_count": null,
   "id": "fb43d4de",
   "metadata": {},
   "outputs": [],
   "source": [
    "df[['Life expectancy', 'GDP', 'Schooling', 'Alcohol', 'BMI', 'HIV/AIDS']].corr()"
   ]
  },
  {
   "cell_type": "markdown",
   "id": "f7989628",
   "metadata": {},
   "source": [
    "### Task 8: Visualizations"
   ]
  },
  {
   "cell_type": "code",
   "execution_count": null,
   "id": "01899853",
   "metadata": {},
   "outputs": [],
   "source": [
    "plt.figure(figsize=(15,10))\n",
    "sns.heatmap(df.select_dtypes(include='number').corr(), cmap='coolwarm', annot=True)\n",
    "plt.title('Correlation Heatmap')\n",
    "plt.show()"
   ]
  },
  {
   "cell_type": "code",
   "execution_count": null,
   "id": "e1702068",
   "metadata": {},
   "outputs": [],
   "source": [
    "plt.figure(figsize=(8,6))\n",
    "sns.boxplot(x='Status', y='Life expectancy', data=df)\n",
    "plt.title('Life Expectancy by Development Status')\n",
    "plt.show()"
   ]
  },
  {
   "cell_type": "code",
   "execution_count": null,
   "id": "b8c88b93",
   "metadata": {},
   "outputs": [],
   "source": [
    "plt.figure(figsize=(8,6))\n",
    "sns.scatterplot(data=df, x='Alcohol', y='Life expectancy', hue='Status')\n",
    "plt.title('Life Expectancy vs Alcohol')\n",
    "plt.show()"
   ]
  },
  {
   "cell_type": "code",
   "execution_count": null,
   "id": "c4d160fc",
   "metadata": {},
   "outputs": [],
   "source": [
    "plt.figure(figsize=(8,6))\n",
    "sns.scatterplot(data=df, x='Hepatitis B', y='Life expectancy', hue='Status')\n",
    "plt.title('Life Expectancy vs Hepatitis B')\n",
    "plt.show()"
   ]
  },
  {
   "cell_type": "code",
   "execution_count": null,
   "id": "55fb8a53",
   "metadata": {},
   "outputs": [],
   "source": [
    "plt.figure(figsize=(8,6))\n",
    "sns.scatterplot(data=df, x='HIV/AIDS', y='Life expectancy', hue='Status')\n",
    "plt.title('Life Expectancy vs HIV/AIDS')\n",
    "plt.show()"
   ]
  },
  {
   "cell_type": "code",
   "execution_count": null,
   "id": "3f7cad08",
   "metadata": {},
   "outputs": [],
   "source": [
    "# 3D Plot\n",
    "fig = px.scatter_3d(df, x='GDP', y='Schooling', z='Life expectancy',\n",
    "                     color='Status', size='Population')\n",
    "fig.show()"
   ]
  },
  {
   "cell_type": "markdown",
   "id": "f23b0943",
   "metadata": {},
   "source": [
    "### Task 9: Interpretation\n",
    "- Higher GDP and schooling are associated with higher life expectancy.\n",
    "- Developing countries tend to have more outliers and lower average life expectancy.\n",
    "- HIV/AIDS has a strong negative correlation with life expectancy."
   ]
  },
  {
   "cell_type": "markdown",
   "id": "10f7c887",
   "metadata": {},
   "source": [
    "### Task 10: Data Splitting and Model Training"
   ]
  },
  {
   "cell_type": "code",
   "execution_count": null,
   "id": "24cd90b2",
   "metadata": {},
   "outputs": [],
   "source": [
    "features = ['GDP', 'Schooling', 'Alcohol', 'BMI', 'HIV/AIDS']\n",
    "X = df[features]\n",
    "y = df['Life expectancy']\n",
    "\n",
    "X_train, X_test, y_train, y_test = train_test_split(X, y, test_size=0.2, random_state=42)\n",
    "model = LinearRegression()\n",
    "model.fit(X_train, y_train)\n",
    "pred = model.predict(X_test)"
   ]
  },
  {
   "cell_type": "markdown",
   "id": "9656dd37",
   "metadata": {},
   "source": [
    "### Task 11: Cross Validation and Model Evaluation"
   ]
  },
  {
   "cell_type": "code",
   "execution_count": null,
   "id": "bf0dc602",
   "metadata": {},
   "outputs": [],
   "source": [
    "mae = mean_absolute_error(y_test, pred)\n",
    "r2 = r2_score(y_test, pred)\n",
    "cross_val = cross_val_score(model, X, y, cv=5).mean()\n",
    "mae, r2, cross_val"
   ]
  },
  {
   "cell_type": "markdown",
   "id": "6dc87e60",
   "metadata": {},
   "source": [
    "### Task 12: Conclusion and Recommendations\n",
    "- **Key Findings**: Life expectancy is positively influenced by GDP, schooling, and healthcare access. HIV/AIDS is a major negative predictor.\n",
    "- **Model Performance**: The linear model gives reasonable accuracy with cross-validation.\n",
    "- **Recommendation**: Focus on improving education, economic stability, and healthcare to raise life expectancy."
   ]
  }
 ],
 "metadata": {
  "kernelspec": {
   "display_name": "Python 3",
   "language": "python",
   "name": "python3"
  },
  "language_info": {
   "codemirror_mode": {
    "name": "ipython",
    "version": 3
   },
   "file_extension": ".py",
   "mimetype": "text/x-python",
   "name": "python",
   "nbconvert_exporter": "python",
   "pygments_lexer": "ipython3",
   "version": "3.10.0"
  }
 },
 "nbformat": 4,
 "nbformat_minor": 5
}
