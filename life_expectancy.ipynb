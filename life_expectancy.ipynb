{
 "cells": [
  {
   "cell_type": "markdown",
   "id": "f7f06938",
   "metadata": {},
   "source": [
    "# Life Expectancy Data Science Project\n",
    "\n",
    "---------------------------------------------\n",
    "\n",
    "### Introduction\n",
    "This analysis explores a life expectancy dataset, aiming to uncover factors affecting life expectancy across countries over time. We'll handle missing values, engineer features, perform exploratory analysis, visualize patterns, and build a regression model to predict life expectancy."
   ]
  },
  {
   "cell_type": "markdown",
   "id": "b505a440",
   "metadata": {},
   "source": [
    "### Objectives\n",
    "- Understand the structure and quality of the dataset\n",
    "- Identify key features affecting life expectancy\n",
    "- Handle missing data appropriately\n",
    "- Engineer new features to improve prediction\n",
    "- Visualize relationships and trends\n",
    "- Build a regression model to predict life expectancy\n",
    "- Evaluate model performance using cross-validation\n",
    "- Derive actionable insights"
   ]
  },
  {
   "cell_type": "markdown",
   "id": "ab1637f4",
   "metadata": {},
   "source": [
    "### Task 1: Explore Dataset and Missing Values"
   ]
  },
  {
   "cell_type": "code",
   "execution_count": null,
   "id": "abd2656d",
   "metadata": {},
   "outputs": [],
   "source": [
    "import numpy as np\n",
    "import pandas as pd\n",
    "import matplotlib.pyplot as plt\n",
    "import seaborn as sns\n",
    "import plotly.express as px\n",
    "from sklearn.model_selection import train_test_split, cross_val_score\n",
    "from sklearn.linear_model import LinearRegression\n",
    "from sklearn.metrics import mean_absolute_error, r2_score\n"
   ]
  },
  {
   "cell_type": "code",
   "execution_count": null,
   "id": "994d8af3",
   "metadata": {},
   "outputs": [],
   "source": [
    "df = pd.read_csv('Life_Expectancy_Data.csv')\n",
    "df.shape "
   ]
  },
  {
   "cell_type": "code",
   "execution_count": null,
   "id": "e5d25cd6",
   "metadata": {},
   "outputs": [],
   "source": [
    "df.dtypes"
   ]
  },
  {
   "cell_type": "code",
   "execution_count": null,
   "id": "7fb2a761",
   "metadata": {},
   "outputs": [],
   "source": [
    "df.dtypes.value_counts()"
   ]
  },
  {
   "cell_type": "code",
   "execution_count": null,
   "id": "464a8af4",
   "metadata": {},
   "outputs": [],
   "source": [
    "df.columns"
   ]
  },
  {
   "cell_type": "code",
   "execution_count": null,
   "id": "7dae33c2",
   "metadata": {},
   "outputs": [],
   "source": [
    "for column in df.columns:\n",
    "    df.rename(columns={column: column.strip()}, inplace=True)\n",
    "\n",
    "df.columns"
   ]
  },
  {
   "cell_type": "code",
   "execution_count": null,
   "id": "1719f59f",
   "metadata": {},
   "outputs": [],
   "source": [
    "df.head(20)"
   ]
  },
  {
   "cell_type": "code",
   "execution_count": null,
   "id": "699a90d0",
   "metadata": {},
   "outputs": [],
   "source": [
    "print(df.duplicated())"
   ]
  },
  {
   "cell_type": "code",
   "execution_count": null,
   "id": "66d9f4fd",
   "metadata": {},
   "outputs": [],
   "source": [
    "#Find total of duplicated values\n",
    "print(df.duplicated().sum())"
   ]
  },
  {
   "cell_type": "code",
   "execution_count": null,
   "id": "aaebef49",
   "metadata": {},
   "outputs": [],
   "source": [
    "# Get the number of unique countries from the 'Country' column\n",
    "number_of_countries = df['Country'].nunique()\n",
    "\n",
    "# Print the number of unique countries\n",
    "print(f\"The total number of unique countries in the dataset is: {number_of_countries}\")"
   ]
  },
  {
   "cell_type": "markdown",
   "id": "4d9dae62",
   "metadata": {},
   "source": [
    "### Task 2: Handle Missing Data and Justify Method"
   ]
  },
  {
   "cell_type": "code",
   "execution_count": null,
   "id": "c32ebf41",
   "metadata": {},
   "outputs": [],
   "source": [
    "null_values = df.isnull().sum()"
   ]
  },
  {
   "cell_type": "code",
   "execution_count": null,
   "id": "a9a4dd8c",
   "metadata": {},
   "outputs": [],
   "source": [
    "#Checks if any column has NaN\n",
    "df.isnull().any()"
   ]
  },
  {
   "cell_type": "code",
   "execution_count": null,
   "id": "c1933df1",
   "metadata": {},
   "outputs": [],
   "source": [
    "#Checks if any row has NaN\n",
    "df.isnull().any(axis=1)"
   ]
  },
  {
   "cell_type": "code",
   "execution_count": null,
   "id": "1777cc18",
   "metadata": {},
   "outputs": [],
   "source": [
    "#Checks if all values in a column are NaN\n",
    "df.isnull().all()"
   ]
  },
  {
   "cell_type": "code",
   "execution_count": null,
   "id": "ff62da94",
   "metadata": {},
   "outputs": [],
   "source": [
    "#Checks if all values in a row are NaN\n",
    "df.isnull().all(axis=1)"
   ]
  },
  {
   "cell_type": "code",
   "execution_count": null,
   "id": "bdb0f505",
   "metadata": {},
   "outputs": [],
   "source": [
    "null_percentage = (df.isnull().sum() / len(df))*100\n",
    "print(null_percentage)"
   ]
  },
  {
   "cell_type": "code",
   "execution_count": null,
   "id": "25509de2",
   "metadata": {},
   "outputs": [],
   "source": [
    "missing_df = pd.DataFrame({'Missing Values': null_values, 'Percent Missing': null_percentage})\n",
    "missing_df[missing_df['Missing Values'] > 0]"
   ]
  },
  {
   "cell_type": "markdown",
   "id": "545100cd",
   "metadata": {},
   "source": [
    "Advanced mechanisms to handle missing data"
   ]
  },
  {
   "cell_type": "code",
   "execution_count": 57,
   "id": "cc3abe8c",
   "metadata": {},
   "outputs": [
    {
     "data": {
      "text/plain": [
       "Polio                              98\n",
       "Diphtheria                         88\n",
       "Income composition of resources    48\n",
       "percentage expenditure             47\n",
       "HIV/AIDS                           46\n",
       "GDP                                46\n",
       "thinness  1-19 years               34\n",
       "thinness 5-9 years                 34\n",
       "Measles                            29\n",
       "Adult Mortality                    28\n",
       "Health Spending Ratio              26\n",
       "infant deaths                      24\n",
       "under-five deaths                  23\n",
       "Population                         10\n",
       "Total expenditure                   4\n",
       "Hepatitis B                         4\n",
       "Alcohol                             3\n",
       "Schooling                           2\n",
       "Deaths per Infant                   2\n",
       "Life expectancy                     0\n",
       "Year                                0\n",
       "BMI                                 0\n",
       "dtype: int64"
      ]
     },
     "execution_count": 57,
     "metadata": {},
     "output_type": "execute_result"
    }
   ],
   "source": [
    "# Using Z score to detect outliers\n",
    "from scipy.stats import zscore\n",
    "\n",
    "# Calculate Z-scores for numerical features\n",
    "z_scores = zscore(df.select_dtypes(include='number'))\n",
    "outliers = (abs(z_scores) > 3)\n",
    "\n",
    "# Count outliers per feature\n",
    "outliers_df = pd.DataFrame(outliers, columns=df.select_dtypes(include='number').columns)\n",
    "outliers_df.sum().sort_values(ascending=False)\n"
   ]
  },
  {
   "cell_type": "code",
   "execution_count": 58,
   "id": "a314a08f",
   "metadata": {},
   "outputs": [
    {
     "data": {
      "image/png": "[encoded data removed]",
      "text/plain": [
       "<Figure size 1600x600 with 1 Axes>"
      ]
     },
     "metadata": {},
     "output_type": "display_data"
    }
   ],
   "source": [
    "# Visualizing outliers using boxplots\n",
    "import seaborn as sns\n",
    "import matplotlib.pyplot as plt\n",
    "\n",
    "plt.figure(figsize=(16, 6))\n",
    "sns.boxplot(data=df[['Polio', 'Diphtheria', 'Income composition of resources', 'HIV/AIDS', 'thinness  1-19 years', 'thinness 5-9 years']])\n",
    "plt.xticks(rotation=45)\n",
    "plt.title(\"Boxplots to Detect Outliers\")\n",
    "plt.show()\n"
   ]
  },
  {
   "cell_type": "code",
   "execution_count": null,
   "id": "c29e297a",
   "metadata": {},
   "outputs": [
    {
     "name": "stdout",
     "output_type": "stream",
     "text": [
      "Outlier Detection Summary\n",
      "========================================\n",
      "                         Column  Outlier Count  Percentage\n",
      "                       HIV/AIDS            299       18.13\n",
      "                        Measles            297       18.01\n",
      "              Deaths per Infant            262       15.89\n",
      "                     Population            233       14.13\n",
      "              under-five deaths            222       13.46\n",
      "                            GDP            208       12.61\n",
      "          Health Spending Ratio            205       12.43\n",
      "                  infant deaths            199       12.07\n",
      "         percentage expenditure            187       11.34\n",
      "                    Hepatitis B            165       10.01\n",
      "                          Polio            142        8.61\n",
      "                     Diphtheria            134        8.13\n",
      "             thinness 5-9 years             78        4.73\n",
      "           thinness  1-19 years             77        4.67\n",
      "                Adult Mortality             54        3.27\n",
      "Income composition of resources             48        2.91\n",
      "                Life expectancy             39        2.37\n",
      "                      Schooling             16        0.97\n",
      "              Total expenditure              7        0.42\n",
      "                        Alcohol              2        0.12\n",
      "                           Year              0        0.00\n",
      "                            BMI              0        0.00\n"
     ]
    }
   ],
   "source": [
    "# IQR method for outlier detection (Interquartile Range)\n",
    "outlier_data = []\n",
    "for col in df.select_dtypes(include='number').columns:\n",
    "    outliers = detect_outliers_iqr(df[col])\n",
    "    outlier_data.append({\n",
    "        'Column': col,\n",
    "        'Outlier Count': len(outliers),\n",
    "        'Percentage': round((len(outliers) / len(df)) * 100, 2)\n",
    "    })\n",
    "\n",
    "# Create DataFrame and sort by outlier count (descending)\n",
    "outlier_summary = pd.DataFrame(outlier_data)\n",
    "outlier_summary = outlier_summary.sort_values('Outlier Count', ascending=False)\n",
    "\n",
    "# Display as a formatted table\n",
    "print(\"Outlier Detection Summary\")\n",
    "print(\"=\" * 40)\n",
    "print(outlier_summary.to_string(index=False))"
   ]
  },
  {
   "cell_type": "code",
   "execution_count": null,
   "id": "207d5646",
   "metadata": {},
   "outputs": [],
   "source": [
    "# Visualizing outliers using boxplots\n",
    "import seaborn as sns\n",
    "import matplotlib.pyplot as plt\n",
    "\n",
    "plt.figure(figsize=(16, 6))\n",
    "sns.boxplot(data=df[['Measles', 'Population', 'GDP','percentage expenditure', 'Adult Mortality', 'under-five deaths']])\n",
    "plt.xticks(rotation=45)\n",
    "plt.title(\"Boxplots to Detect Outliers\")\n",
    "plt.show()"
   ]
  },
  {
   "cell_type": "markdown",
   "id": "faebbb78",
   "metadata": {},
   "source": [
    "### Task 3: Apply Chosen Method and Evaluate"
   ]
  },
  {
   "cell_type": "code",
   "execution_count": null,
   "id": "2c6e0c63",
   "metadata": {},
   "outputs": [],
   "source": [
    "numeric_columns = df.select_dtypes(include = 'number')\n",
    "df.fillna(df.mean(numeric_only=True), inplace=True)\n",
    "df.isnull().sum()"
   ]
  },
  {
   "cell_type": "code",
   "execution_count": null,
   "id": "6db1fe4f",
   "metadata": {},
   "outputs": [],
   "source": [
    "nonNumericColumns = df.select_dtypes(include = 'object')\n",
    "for column in nonNumericColumns.columns:\n",
    "    df[column].fillna(df[column].mode()[0])\n",
    "    \n",
    "df.isnull().sum()"
   ]
  },
  {
   "cell_type": "markdown",
   "id": "0103c986",
   "metadata": {},
   "source": [
    "### Task 4: Identify Potential Features"
   ]
  },
  {
   "cell_type": "code",
   "execution_count": null,
   "id": "4bbe0990",
   "metadata": {},
   "outputs": [],
   "source": [
    "# Display all columns in the DataFrame\n",
    "pd.set_option('display.max_columns', None)\n",
    "#Description of the dataset transposed\n",
    "df.describe(include='all')"
   ]
  },
  {
   "cell_type": "markdown",
   "id": "b49f77bf",
   "metadata": {},
   "source": [
    "###  Task 5: Feature Engineering"
   ]
  },
  {
   "cell_type": "code",
   "execution_count": null,
   "id": "243a5b29",
   "metadata": {},
   "outputs": [],
   "source": [
    "df['Health Spending Ratio'] = df['Total expenditure'] / df['GDP']\n",
    "df['Deaths per Infant'] = df['infant deaths'] / df['Population']"
   ]
  },
  {
   "cell_type": "markdown",
   "id": "080934cd",
   "metadata": {},
   "source": [
    "### Task 6: Impact of New Features"
   ]
  },
  {
   "cell_type": "code",
   "execution_count": null,
   "id": "b796de68",
   "metadata": {},
   "outputs": [],
   "source": [
    "df[['Health Spending Ratio', 'Deaths per Infant']].describe()"
   ]
  },
  {
   "cell_type": "markdown",
   "id": "c8a32ec8",
   "metadata": {},
   "source": [
    "### Task 7: Select Key Variables for Visualization"
   ]
  },
  {
   "cell_type": "code",
   "execution_count": null,
   "id": "fb43d4de",
   "metadata": {},
   "outputs": [],
   "source": [
    "df[['Life expectancy', 'GDP', 'Schooling', 'Alcohol', 'BMI', 'HIV/AIDS']].corr()"
   ]
  },
  {
   "cell_type": "markdown",
   "id": "f7989628",
   "metadata": {},
   "source": [
    "### Task 8: Visualizations"
   ]
  },
  {
   "cell_type": "code",
   "execution_count": null,
   "id": "01899853",
   "metadata": {},
   "outputs": [],
   "source": [
    "plt.figure(figsize=(12,10))\n",
    "sns.heatmap(df.select_dtypes(include='number').corr(), cmap='coolwarm', annot=True)\n",
    "plt.title('Correlation Heatmap')\n",
    "plt.show()"
   ]
  },
  {
   "cell_type": "code",
   "execution_count": null,
   "id": "e1702068",
   "metadata": {},
   "outputs": [],
   "source": [
    "plt.figure(figsize=(8,6))\n",
    "sns.boxplot(x='Status', y='Life expectancy', data=df)\n",
    "plt.title('Life Expectancy by Development Status')\n",
    "plt.show()"
   ]
  },
  {
   "cell_type": "code",
   "execution_count": null,
   "id": "b8c88b93",
   "metadata": {},
   "outputs": [],
   "source": [
    "plt.figure(figsize=(8,6))\n",
    "sns.scatterplot(data=df, x='Alcohol', y='Life expectancy', hue='Status')\n",
    "plt.title('Life Expectancy vs Alcohol')\n",
    "plt.show()"
   ]
  },
  {
   "cell_type": "code",
   "execution_count": null,
   "id": "c4d160fc",
   "metadata": {},
   "outputs": [],
   "source": [
    "plt.figure(figsize=(8,6))\n",
    "sns.scatterplot(data=df, x='Hepatitis B', y='Life expectancy', hue='Status')\n",
    "plt.title('Life Expectancy vs Hepatitis B')\n",
    "plt.show()"
   ]
  },
  {
   "cell_type": "code",
   "execution_count": null,
   "id": "55fb8a53",
   "metadata": {},
   "outputs": [],
   "source": [
    "plt.figure(figsize=(8,6))\n",
    "sns.scatterplot(data=df, x='HIV/AIDS', y='Life expectancy', hue='Status')\n",
    "plt.title('Life Expectancy vs HIV/AIDS')\n",
    "plt.show()"
   ]
  },
  {
   "cell_type": "code",
   "execution_count": null,
   "id": "3f7cad08",
   "metadata": {},
   "outputs": [],
   "source": [
    "# 3D Plot\n",
    "fig = px.scatter_3d(df, x='GDP', y='Schooling', z='Life expectancy',\n",
    "                     color='Status', size='Population')\n",
    "fig.show()"
   ]
  },
  {
   "cell_type": "markdown",
   "id": "f23b0943",
   "metadata": {},
   "source": [
    "### Task 9: Interpretation\n",
    "- Higher GDP and schooling are associated with higher life expectancy.\n",
    "- Developing countries tend to have more outliers and lower average life expectancy.\n",
    "- HIV/AIDS has a strong negative correlation with life expectancy."
   ]
  },
  {
   "cell_type": "markdown",
   "id": "10f7c887",
   "metadata": {},
   "source": [
    "### Task 10: Data Splitting and Model Training"
   ]
  },
  {
   "cell_type": "code",
   "execution_count": null,
   "id": "24cd90b2",
   "metadata": {},
   "outputs": [],
   "source": [
    "features = ['GDP', 'Schooling', 'Alcohol', 'BMI', 'HIV/AIDS']\n",
    "X = df[features]\n",
    "y = df['Life expectancy']\n",
    "\n",
    "X_train, X_test, y_train, y_test = train_test_split(X, y, test_size=0.2, random_state=42)\n",
    "model = LinearRegression()\n",
    "model.fit(X_train, y_train)\n",
    "pred = model.predict(X_test)"
   ]
  },
  {
   "cell_type": "markdown",
   "id": "9656dd37",
   "metadata": {},
   "source": [
    "### Task 11: Cross Validation and Model Evaluation"
   ]
  },
  {
   "cell_type": "code",
   "execution_count": null,
   "id": "bf0dc602",
   "metadata": {},
   "outputs": [],
   "source": [
    "mae = mean_absolute_error(y_test, pred)\n",
    "r2 = r2_score(y_test, pred)\n",
    "cross_val = cross_val_score(model, X, y, cv=5).mean()\n",
    "mae, r2, cross_val"
   ]
  },
  {
   "cell_type": "markdown",
   "id": "6dc87e60",
   "metadata": {},
   "source": [
    "### Task 12: Conclusion and Recommendations\n",
    "- **Key Findings**: Life expectancy is positively influenced by GDP, schooling, and healthcare access. HIV/AIDS is a major negative predictor.\n",
    "- **Model Performance**: The linear model gives reasonable accuracy with cross-validation.\n",
    "- **Recommendation**: Focus on improving education, economic stability, and healthcare to raise life expectancy."
   ]
  }
 ],
 "metadata": {
  "kernelspec": {
   "display_name": "Python 3",
   "language": "python",
   "name": "python3"
  },
  "language_info": {
   "codemirror_mode": {
    "name": "ipython",
    "version": 3
   },
   "file_extension": ".py",
   "mimetype": "text/x-python",
   "name": "python",
   "nbconvert_exporter": "python",
   "pygments_lexer": "ipython3",
   "version": "3.10.0"
  }
 },
 "nbformat": 4,
 "nbformat_minor": 5
}
