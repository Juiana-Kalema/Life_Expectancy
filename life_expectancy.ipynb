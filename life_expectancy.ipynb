{
 "cells": [
  {
   "cell_type": "markdown",
   "id": "f7f06938",
   "metadata": {},
   "source": [
    "# Life Expectancy Data Science Project\n",
    "\n",
    "---------------------------------------------\n",
    "\n",
    "### Introduction\n",
    "This analysis explores a life expectancy dataset, aiming to uncover factors affecting life expectancy across countries over time. We'll handle missing values, engineer features, perform exploratory analysis, visualize patterns, and build a regression model to predict life expectancy."
   ]
  },
  {
   "cell_type": "markdown",
   "id": "b505a440",
   "metadata": {},
   "source": [
    "### Objectives\n",
    "- Understand the structure and quality of the dataset\n",
    "- Identify key features affecting life expectancy\n",
    "- Handle missing data appropriately\n",
    "- Engineer new features to improve prediction\n",
    "- Visualize relationships and trends\n",
    "- Build a regression model to predict life expectancy\n",
    "- Evaluate model performance using cross-validation\n",
    "- Derive actionable insights"
   ]
  },
  {
   "cell_type": "markdown",
   "id": "ab1637f4",
   "metadata": {},
   "source": [
    "### Task 1: Explore Dataset and Missing Values"
   ]
  },
  {
   "cell_type": "code",
   "execution_count": null,
   "id": "abd2656d",
   "metadata": {},
   "outputs": [],
   "source": [
    "import numpy as np\n",
    "import pandas as pd\n",
    "import matplotlib.pyplot as plt\n",
    "import seaborn as sns\n",
    "import plotly.express as px\n",
    "from sklearn.model_selection import train_test_split, cross_val_score\n",
    "from sklearn.linear_model import LinearRegression\n",
    "from sklearn.metrics import mean_absolute_error, r2_score\n"
   ]
  },
  {
   "cell_type": "code",
   "execution_count": null,
   "id": "994d8af3",
   "metadata": {},
   "outputs": [],
   "source": [
    "df = pd.read_csv('Life_Expectancy_Data.csv')\n",
    "df.shape "
   ]
  },
  {
   "cell_type": "code",
   "execution_count": null,
   "id": "e5d25cd6",
   "metadata": {},
   "outputs": [],
   "source": [
    "df.dtypes"
   ]
  },
  {
   "cell_type": "code",
   "execution_count": null,
   "id": "7fb2a761",
   "metadata": {},
   "outputs": [],
   "source": [
    "df.dtypes.value_counts()"
   ]
  },
  {
   "cell_type": "code",
   "execution_count": null,
   "id": "464a8af4",
   "metadata": {},
   "outputs": [],
   "source": [
    "df.columns"
   ]
  },
  {
   "cell_type": "code",
   "execution_count": null,
   "id": "7dae33c2",
   "metadata": {},
   "outputs": [],
   "source": [
    "for column in df.columns:\n",
    "    df.rename(columns={column: column.strip()}, inplace=True)\n",
    "\n",
    "df.columns"
   ]
  },
  {
   "cell_type": "code",
   "execution_count": null,
   "id": "1719f59f",
   "metadata": {},
   "outputs": [],
   "source": [
    "df.head(20)"
   ]
  },
  {
   "cell_type": "code",
   "execution_count": null,
   "id": "699a90d0",
   "metadata": {},
   "outputs": [],
   "source": [
    "print(df.duplicated())"
   ]
  },
  {
   "cell_type": "code",
   "execution_count": null,
   "id": "66d9f4fd",
   "metadata": {},
   "outputs": [],
   "source": [
    "#Find total of duplicated values\n",
    "print(df.duplicated().sum())"
   ]
  },
  {
   "cell_type": "code",
   "execution_count": null,
   "id": "aaebef49",
   "metadata": {},
   "outputs": [],
   "source": [
    "# Get the number of unique countries from the 'Country' column\n",
    "number_of_countries = df['Country'].nunique()\n",
    "\n",
    "# Print the number of unique countries\n",
    "print(f\"The total number of unique countries in the dataset is: {number_of_countries}\")"
   ]
  },
  {
   "cell_type": "markdown",
   "id": "4d9dae62",
   "metadata": {},
   "source": [
    "### Task 2: Handle Missing Data and Justify Method"
   ]
  },
  {
   "cell_type": "code",
   "execution_count": null,
   "id": "c32ebf41",
   "metadata": {},
   "outputs": [],
   "source": [
    "null_values = df.isnull().sum()"
   ]
  },
  {
   "cell_type": "code",
   "execution_count": null,
   "id": "a9a4dd8c",
   "metadata": {},
   "outputs": [],
   "source": [
    "#Checks if any column has NaN\n",
    "df.isnull().any()"
   ]
  },
  {
   "cell_type": "code",
   "execution_count": null,
   "id": "c1933df1",
   "metadata": {},
   "outputs": [],
   "source": [
    "#Checks if any row has NaN\n",
    "df.isnull().any(axis=1)"
   ]
  },
  {
   "cell_type": "code",
   "execution_count": null,
   "id": "1777cc18",
   "metadata": {},
   "outputs": [],
   "source": [
    "#Checks if all values in a column are NaN\n",
    "df.isnull().all()"
   ]
  },
  {
   "cell_type": "code",
   "execution_count": null,
   "id": "ff62da94",
   "metadata": {},
   "outputs": [],
   "source": [
    "#Checks if all values in a row are NaN\n",
    "df.isnull().all(axis=1)"
   ]
  },
  {
   "cell_type": "code",
   "execution_count": null,
   "id": "bdb0f505",
   "metadata": {},
   "outputs": [],
   "source": [
    "null_percentage = (df.isnull().sum() / len(df))*100\n",
    "print(null_percentage)"
   ]
  },
  {
   "cell_type": "code",
   "execution_count": null,
   "id": "25509de2",
   "metadata": {},
   "outputs": [],
   "source": [
    "missing_df = pd.DataFrame({'Missing Values': null_values, 'Percent Missing': null_percentage})\n",
    "missing_df[missing_df['Missing Values'] > 0]"
   ]
  },
  {
   "cell_type": "markdown",
   "id": "faebbb78",
   "metadata": {},
   "source": [
    "### Task 3: Apply Chosen Method and Evaluate"
   ]
  },
  {
   "cell_type": "code",
   "execution_count": null,
   "id": "2c6e0c63",
   "metadata": {},
   "outputs": [],
   "source": [
    "numeric_columns = df.select_dtypes(include = 'number')\n",
    "df.fillna(df.mean(numeric_only=True), inplace=True)\n",
    "df.isnull().sum()"
   ]
  },
  {
   "cell_type": "code",
   "execution_count": null,
   "id": "6db1fe4f",
   "metadata": {},
   "outputs": [],
   "source": [
    "nonNumericColumns = df.select_dtypes(include = 'object')\n",
    "for column in nonNumericColumns.columns:\n",
    "    df[column].fillna(df[column].mode()[0])\n",
    "    \n",
    "df.isnull().sum()"
   ]
  },
  {
   "cell_type": "markdown",
   "id": "0103c986",
   "metadata": {},
   "source": [
    "### Task 4: Identify Potential Features"
   ]
  },
  {
   "cell_type": "code",
   "execution_count": 39,
   "id": "4bbe0990",
   "metadata": {},
   "outputs": [
    {
     "data": {
      "text/html": [
       "<div>\n",
       "<style scoped>\n",
       "    .dataframe tbody tr th:only-of-type {\n",
       "        vertical-align: middle;\n",
       "    }\n",
       "\n",
       "    .dataframe tbody tr th {\n",
       "        vertical-align: top;\n",
       "    }\n",
       "\n",
       "    .dataframe thead th {\n",
       "        text-align: right;\n",
       "    }\n",
       "</style>\n",
       "<table border=\"1\" class=\"dataframe\">\n",
       "  <thead>\n",
       "    <tr style=\"text-align: right;\">\n",
       "      <th></th>\n",
       "      <th>Country</th>\n",
       "      <th>Year</th>\n",
       "      <th>Status</th>\n",
       "      <th>Life expectancy</th>\n",
       "      <th>Adult Mortality</th>\n",
       "      <th>infant deaths</th>\n",
       "      <th>Alcohol</th>\n",
       "      <th>percentage expenditure</th>\n",
       "      <th>Hepatitis B</th>\n",
       "      <th>Measles</th>\n",
       "      <th>BMI</th>\n",
       "      <th>under-five deaths</th>\n",
       "      <th>Polio</th>\n",
       "      <th>Total expenditure</th>\n",
       "      <th>Diphtheria</th>\n",
       "      <th>HIV/AIDS</th>\n",
       "      <th>GDP</th>\n",
       "      <th>Population</th>\n",
       "      <th>thinness  1-19 years</th>\n",
       "      <th>thinness 5-9 years</th>\n",
       "      <th>Income composition of resources</th>\n",
       "      <th>Schooling</th>\n",
       "      <th>Health Spending Ratio</th>\n",
       "      <th>Deaths per Infant</th>\n",
       "    </tr>\n",
       "  </thead>\n",
       "  <tbody>\n",
       "    <tr>\n",
       "      <th>count</th>\n",
       "      <td>1649</td>\n",
       "      <td>1649.000000</td>\n",
       "      <td>1649</td>\n",
       "      <td>1649.000000</td>\n",
       "      <td>1649.000000</td>\n",
       "      <td>1649.000000</td>\n",
       "      <td>1649.000000</td>\n",
       "      <td>1649.000000</td>\n",
       "      <td>1649.000000</td>\n",
       "      <td>1649.000000</td>\n",
       "      <td>1649.000000</td>\n",
       "      <td>1649.000000</td>\n",
       "      <td>1649.000000</td>\n",
       "      <td>1649.000000</td>\n",
       "      <td>1649.000000</td>\n",
       "      <td>1649.000000</td>\n",
       "      <td>1649.000000</td>\n",
       "      <td>1.649000e+03</td>\n",
       "      <td>1649.000000</td>\n",
       "      <td>1649.000000</td>\n",
       "      <td>1649.000000</td>\n",
       "      <td>1649.000000</td>\n",
       "      <td>1649.000000</td>\n",
       "      <td>1.649000e+03</td>\n",
       "    </tr>\n",
       "    <tr>\n",
       "      <th>unique</th>\n",
       "      <td>133</td>\n",
       "      <td>NaN</td>\n",
       "      <td>2</td>\n",
       "      <td>NaN</td>\n",
       "      <td>NaN</td>\n",
       "      <td>NaN</td>\n",
       "      <td>NaN</td>\n",
       "      <td>NaN</td>\n",
       "      <td>NaN</td>\n",
       "      <td>NaN</td>\n",
       "      <td>NaN</td>\n",
       "      <td>NaN</td>\n",
       "      <td>NaN</td>\n",
       "      <td>NaN</td>\n",
       "      <td>NaN</td>\n",
       "      <td>NaN</td>\n",
       "      <td>NaN</td>\n",
       "      <td>NaN</td>\n",
       "      <td>NaN</td>\n",
       "      <td>NaN</td>\n",
       "      <td>NaN</td>\n",
       "      <td>NaN</td>\n",
       "      <td>NaN</td>\n",
       "      <td>NaN</td>\n",
       "    </tr>\n",
       "    <tr>\n",
       "      <th>top</th>\n",
       "      <td>Afghanistan</td>\n",
       "      <td>NaN</td>\n",
       "      <td>Developing</td>\n",
       "      <td>NaN</td>\n",
       "      <td>NaN</td>\n",
       "      <td>NaN</td>\n",
       "      <td>NaN</td>\n",
       "      <td>NaN</td>\n",
       "      <td>NaN</td>\n",
       "      <td>NaN</td>\n",
       "      <td>NaN</td>\n",
       "      <td>NaN</td>\n",
       "      <td>NaN</td>\n",
       "      <td>NaN</td>\n",
       "      <td>NaN</td>\n",
       "      <td>NaN</td>\n",
       "      <td>NaN</td>\n",
       "      <td>NaN</td>\n",
       "      <td>NaN</td>\n",
       "      <td>NaN</td>\n",
       "      <td>NaN</td>\n",
       "      <td>NaN</td>\n",
       "      <td>NaN</td>\n",
       "      <td>NaN</td>\n",
       "    </tr>\n",
       "    <tr>\n",
       "      <th>freq</th>\n",
       "      <td>16</td>\n",
       "      <td>NaN</td>\n",
       "      <td>1407</td>\n",
       "      <td>NaN</td>\n",
       "      <td>NaN</td>\n",
       "      <td>NaN</td>\n",
       "      <td>NaN</td>\n",
       "      <td>NaN</td>\n",
       "      <td>NaN</td>\n",
       "      <td>NaN</td>\n",
       "      <td>NaN</td>\n",
       "      <td>NaN</td>\n",
       "      <td>NaN</td>\n",
       "      <td>NaN</td>\n",
       "      <td>NaN</td>\n",
       "      <td>NaN</td>\n",
       "      <td>NaN</td>\n",
       "      <td>NaN</td>\n",
       "      <td>NaN</td>\n",
       "      <td>NaN</td>\n",
       "      <td>NaN</td>\n",
       "      <td>NaN</td>\n",
       "      <td>NaN</td>\n",
       "      <td>NaN</td>\n",
       "    </tr>\n",
       "    <tr>\n",
       "      <th>mean</th>\n",
       "      <td>NaN</td>\n",
       "      <td>2007.840509</td>\n",
       "      <td>NaN</td>\n",
       "      <td>69.302304</td>\n",
       "      <td>168.215282</td>\n",
       "      <td>32.553062</td>\n",
       "      <td>4.533196</td>\n",
       "      <td>698.973558</td>\n",
       "      <td>79.217708</td>\n",
       "      <td>2224.494239</td>\n",
       "      <td>38.128623</td>\n",
       "      <td>44.220133</td>\n",
       "      <td>83.564585</td>\n",
       "      <td>5.955925</td>\n",
       "      <td>84.155246</td>\n",
       "      <td>1.983869</td>\n",
       "      <td>5566.031887</td>\n",
       "      <td>1.465363e+07</td>\n",
       "      <td>4.850637</td>\n",
       "      <td>4.907762</td>\n",
       "      <td>0.631551</td>\n",
       "      <td>12.119891</td>\n",
       "      <td>0.019220</td>\n",
       "      <td>3.643007e-04</td>\n",
       "    </tr>\n",
       "    <tr>\n",
       "      <th>std</th>\n",
       "      <td>NaN</td>\n",
       "      <td>4.087711</td>\n",
       "      <td>NaN</td>\n",
       "      <td>8.796834</td>\n",
       "      <td>125.310417</td>\n",
       "      <td>120.847190</td>\n",
       "      <td>4.029189</td>\n",
       "      <td>1759.229336</td>\n",
       "      <td>25.604664</td>\n",
       "      <td>10085.802019</td>\n",
       "      <td>19.754249</td>\n",
       "      <td>162.897999</td>\n",
       "      <td>22.450557</td>\n",
       "      <td>2.299385</td>\n",
       "      <td>21.579193</td>\n",
       "      <td>6.032360</td>\n",
       "      <td>11475.900117</td>\n",
       "      <td>7.046039e+07</td>\n",
       "      <td>4.599228</td>\n",
       "      <td>4.653757</td>\n",
       "      <td>0.183089</td>\n",
       "      <td>2.795388</td>\n",
       "      <td>0.073488</td>\n",
       "      <td>8.237884e-03</td>\n",
       "    </tr>\n",
       "    <tr>\n",
       "      <th>min</th>\n",
       "      <td>NaN</td>\n",
       "      <td>2000.000000</td>\n",
       "      <td>NaN</td>\n",
       "      <td>44.000000</td>\n",
       "      <td>1.000000</td>\n",
       "      <td>0.000000</td>\n",
       "      <td>0.010000</td>\n",
       "      <td>0.000000</td>\n",
       "      <td>2.000000</td>\n",
       "      <td>0.000000</td>\n",
       "      <td>2.000000</td>\n",
       "      <td>0.000000</td>\n",
       "      <td>3.000000</td>\n",
       "      <td>0.740000</td>\n",
       "      <td>2.000000</td>\n",
       "      <td>0.100000</td>\n",
       "      <td>1.681350</td>\n",
       "      <td>3.400000e+01</td>\n",
       "      <td>0.100000</td>\n",
       "      <td>0.100000</td>\n",
       "      <td>0.000000</td>\n",
       "      <td>4.200000</td>\n",
       "      <td>0.000028</td>\n",
       "      <td>0.000000e+00</td>\n",
       "    </tr>\n",
       "    <tr>\n",
       "      <th>25%</th>\n",
       "      <td>NaN</td>\n",
       "      <td>2005.000000</td>\n",
       "      <td>NaN</td>\n",
       "      <td>64.400000</td>\n",
       "      <td>77.000000</td>\n",
       "      <td>1.000000</td>\n",
       "      <td>0.810000</td>\n",
       "      <td>37.438577</td>\n",
       "      <td>74.000000</td>\n",
       "      <td>0.000000</td>\n",
       "      <td>19.500000</td>\n",
       "      <td>1.000000</td>\n",
       "      <td>81.000000</td>\n",
       "      <td>4.410000</td>\n",
       "      <td>82.000000</td>\n",
       "      <td>0.100000</td>\n",
       "      <td>462.149650</td>\n",
       "      <td>1.918970e+05</td>\n",
       "      <td>1.600000</td>\n",
       "      <td>1.700000</td>\n",
       "      <td>0.509000</td>\n",
       "      <td>10.300000</td>\n",
       "      <td>0.001131</td>\n",
       "      <td>4.399810e-08</td>\n",
       "    </tr>\n",
       "    <tr>\n",
       "      <th>50%</th>\n",
       "      <td>NaN</td>\n",
       "      <td>2008.000000</td>\n",
       "      <td>NaN</td>\n",
       "      <td>71.700000</td>\n",
       "      <td>148.000000</td>\n",
       "      <td>3.000000</td>\n",
       "      <td>3.790000</td>\n",
       "      <td>145.102253</td>\n",
       "      <td>89.000000</td>\n",
       "      <td>15.000000</td>\n",
       "      <td>43.700000</td>\n",
       "      <td>4.000000</td>\n",
       "      <td>93.000000</td>\n",
       "      <td>5.840000</td>\n",
       "      <td>92.000000</td>\n",
       "      <td>0.100000</td>\n",
       "      <td>1592.572182</td>\n",
       "      <td>1.419631e+06</td>\n",
       "      <td>3.000000</td>\n",
       "      <td>3.200000</td>\n",
       "      <td>0.673000</td>\n",
       "      <td>12.300000</td>\n",
       "      <td>0.003121</td>\n",
       "      <td>1.343009e-06</td>\n",
       "    </tr>\n",
       "    <tr>\n",
       "      <th>75%</th>\n",
       "      <td>NaN</td>\n",
       "      <td>2011.000000</td>\n",
       "      <td>NaN</td>\n",
       "      <td>75.000000</td>\n",
       "      <td>227.000000</td>\n",
       "      <td>22.000000</td>\n",
       "      <td>7.340000</td>\n",
       "      <td>509.389994</td>\n",
       "      <td>96.000000</td>\n",
       "      <td>373.000000</td>\n",
       "      <td>55.800000</td>\n",
       "      <td>29.000000</td>\n",
       "      <td>97.000000</td>\n",
       "      <td>7.470000</td>\n",
       "      <td>97.000000</td>\n",
       "      <td>0.700000</td>\n",
       "      <td>4718.512910</td>\n",
       "      <td>7.658972e+06</td>\n",
       "      <td>7.100000</td>\n",
       "      <td>7.100000</td>\n",
       "      <td>0.751000</td>\n",
       "      <td>14.000000</td>\n",
       "      <td>0.011613</td>\n",
       "      <td>1.178474e-05</td>\n",
       "    </tr>\n",
       "    <tr>\n",
       "      <th>max</th>\n",
       "      <td>NaN</td>\n",
       "      <td>2015.000000</td>\n",
       "      <td>NaN</td>\n",
       "      <td>89.000000</td>\n",
       "      <td>723.000000</td>\n",
       "      <td>1600.000000</td>\n",
       "      <td>17.870000</td>\n",
       "      <td>18961.348600</td>\n",
       "      <td>99.000000</td>\n",
       "      <td>131441.000000</td>\n",
       "      <td>77.100000</td>\n",
       "      <td>2100.000000</td>\n",
       "      <td>99.000000</td>\n",
       "      <td>14.390000</td>\n",
       "      <td>99.000000</td>\n",
       "      <td>50.600000</td>\n",
       "      <td>119172.741800</td>\n",
       "      <td>1.293859e+09</td>\n",
       "      <td>27.200000</td>\n",
       "      <td>28.200000</td>\n",
       "      <td>0.936000</td>\n",
       "      <td>20.700000</td>\n",
       "      <td>1.659381</td>\n",
       "      <td>3.286604e-01</td>\n",
       "    </tr>\n",
       "  </tbody>\n",
       "</table>\n",
       "</div>"
      ],
      "text/plain": [
       "            Country         Year      Status  Life expectancy  \\\n",
       "count          1649  1649.000000        1649      1649.000000   \n",
       "unique          133          NaN           2              NaN   \n",
       "top     Afghanistan          NaN  Developing              NaN   \n",
       "freq             16          NaN        1407              NaN   \n",
       "mean            NaN  2007.840509         NaN        69.302304   \n",
       "std             NaN     4.087711         NaN         8.796834   \n",
       "min             NaN  2000.000000         NaN        44.000000   \n",
       "25%             NaN  2005.000000         NaN        64.400000   \n",
       "50%             NaN  2008.000000         NaN        71.700000   \n",
       "75%             NaN  2011.000000         NaN        75.000000   \n",
       "max             NaN  2015.000000         NaN        89.000000   \n",
       "\n",
       "        Adult Mortality  infant deaths      Alcohol  percentage expenditure  \\\n",
       "count       1649.000000    1649.000000  1649.000000             1649.000000   \n",
       "unique              NaN            NaN          NaN                     NaN   \n",
       "top                 NaN            NaN          NaN                     NaN   \n",
       "freq                NaN            NaN          NaN                     NaN   \n",
       "mean         168.215282      32.553062     4.533196              698.973558   \n",
       "std          125.310417     120.847190     4.029189             1759.229336   \n",
       "min            1.000000       0.000000     0.010000                0.000000   \n",
       "25%           77.000000       1.000000     0.810000               37.438577   \n",
       "50%          148.000000       3.000000     3.790000              145.102253   \n",
       "75%          227.000000      22.000000     7.340000              509.389994   \n",
       "max          723.000000    1600.000000    17.870000            18961.348600   \n",
       "\n",
       "        Hepatitis B        Measles          BMI  under-five deaths  \\\n",
       "count   1649.000000    1649.000000  1649.000000        1649.000000   \n",
       "unique          NaN            NaN          NaN                NaN   \n",
       "top             NaN            NaN          NaN                NaN   \n",
       "freq            NaN            NaN          NaN                NaN   \n",
       "mean      79.217708    2224.494239    38.128623          44.220133   \n",
       "std       25.604664   10085.802019    19.754249         162.897999   \n",
       "min        2.000000       0.000000     2.000000           0.000000   \n",
       "25%       74.000000       0.000000    19.500000           1.000000   \n",
       "50%       89.000000      15.000000    43.700000           4.000000   \n",
       "75%       96.000000     373.000000    55.800000          29.000000   \n",
       "max       99.000000  131441.000000    77.100000        2100.000000   \n",
       "\n",
       "              Polio  Total expenditure   Diphtheria     HIV/AIDS  \\\n",
       "count   1649.000000        1649.000000  1649.000000  1649.000000   \n",
       "unique          NaN                NaN          NaN          NaN   \n",
       "top             NaN                NaN          NaN          NaN   \n",
       "freq            NaN                NaN          NaN          NaN   \n",
       "mean      83.564585           5.955925    84.155246     1.983869   \n",
       "std       22.450557           2.299385    21.579193     6.032360   \n",
       "min        3.000000           0.740000     2.000000     0.100000   \n",
       "25%       81.000000           4.410000    82.000000     0.100000   \n",
       "50%       93.000000           5.840000    92.000000     0.100000   \n",
       "75%       97.000000           7.470000    97.000000     0.700000   \n",
       "max       99.000000          14.390000    99.000000    50.600000   \n",
       "\n",
       "                  GDP    Population  thinness  1-19 years  thinness 5-9 years  \\\n",
       "count     1649.000000  1.649000e+03           1649.000000         1649.000000   \n",
       "unique            NaN           NaN                   NaN                 NaN   \n",
       "top               NaN           NaN                   NaN                 NaN   \n",
       "freq              NaN           NaN                   NaN                 NaN   \n",
       "mean      5566.031887  1.465363e+07              4.850637            4.907762   \n",
       "std      11475.900117  7.046039e+07              4.599228            4.653757   \n",
       "min          1.681350  3.400000e+01              0.100000            0.100000   \n",
       "25%        462.149650  1.918970e+05              1.600000            1.700000   \n",
       "50%       1592.572182  1.419631e+06              3.000000            3.200000   \n",
       "75%       4718.512910  7.658972e+06              7.100000            7.100000   \n",
       "max     119172.741800  1.293859e+09             27.200000           28.200000   \n",
       "\n",
       "        Income composition of resources    Schooling  Health Spending Ratio  \\\n",
       "count                       1649.000000  1649.000000            1649.000000   \n",
       "unique                              NaN          NaN                    NaN   \n",
       "top                                 NaN          NaN                    NaN   \n",
       "freq                                NaN          NaN                    NaN   \n",
       "mean                           0.631551    12.119891               0.019220   \n",
       "std                            0.183089     2.795388               0.073488   \n",
       "min                            0.000000     4.200000               0.000028   \n",
       "25%                            0.509000    10.300000               0.001131   \n",
       "50%                            0.673000    12.300000               0.003121   \n",
       "75%                            0.751000    14.000000               0.011613   \n",
       "max                            0.936000    20.700000               1.659381   \n",
       "\n",
       "        Deaths per Infant  \n",
       "count        1.649000e+03  \n",
       "unique                NaN  \n",
       "top                   NaN  \n",
       "freq                  NaN  \n",
       "mean         3.643007e-04  \n",
       "std          8.237884e-03  \n",
       "min          0.000000e+00  \n",
       "25%          4.399810e-08  \n",
       "50%          1.343009e-06  \n",
       "75%          1.178474e-05  \n",
       "max          3.286604e-01  "
      ]
     },
     "execution_count": 39,
     "metadata": {},
     "output_type": "execute_result"
    }
   ],
   "source": [
    "# Display all columns in the DataFrame\n",
    "pd.set_option('display.max_columns', None)\n",
    "#Description of the dataset transposed\n",
    "df.describe(include='all')"
   ]
  },
  {
   "cell_type": "markdown",
   "id": "b49f77bf",
   "metadata": {},
   "source": [
    "###  Task 5: Feature Engineering"
   ]
  },
  {
   "cell_type": "code",
   "execution_count": null,
   "id": "243a5b29",
   "metadata": {},
   "outputs": [],
   "source": [
    "df['Health Spending Ratio'] = df['Total expenditure'] / df['GDP']\n",
    "df['Deaths per Infant'] = df['infant deaths'] / df['Population']"
   ]
  },
  {
   "cell_type": "markdown",
   "id": "080934cd",
   "metadata": {},
   "source": [
    "### Task 6: Impact of New Features"
   ]
  },
  {
   "cell_type": "code",
   "execution_count": null,
   "id": "b796de68",
   "metadata": {},
   "outputs": [],
   "source": [
    "df[['Health Spending Ratio', 'Deaths per Infant']].describe()"
   ]
  },
  {
   "cell_type": "markdown",
   "id": "c8a32ec8",
   "metadata": {},
   "source": [
    "### Task 7: Select Key Variables for Visualization"
   ]
  },
  {
   "cell_type": "code",
   "execution_count": null,
   "id": "fb43d4de",
   "metadata": {},
   "outputs": [],
   "source": [
    "df[['Life expectancy', 'GDP', 'Schooling', 'Alcohol', 'BMI', 'HIV/AIDS']].corr()"
   ]
  },
  {
   "cell_type": "markdown",
   "id": "f7989628",
   "metadata": {},
   "source": [
    "### Task 8: Visualizations"
   ]
  },
  {
   "cell_type": "code",
   "execution_count": null,
   "id": "01899853",
   "metadata": {},
   "outputs": [],
   "source": [
    "plt.figure(figsize=(12,10))\n",
    "sns.heatmap(df.select_dtypes(include='number').corr(), cmap='coolwarm', annot=True)\n",
    "plt.title('Correlation Heatmap')\n",
    "plt.show()"
   ]
  },
  {
   "cell_type": "code",
   "execution_count": null,
   "id": "e1702068",
   "metadata": {},
   "outputs": [],
   "source": [
    "plt.figure(figsize=(8,6))\n",
    "sns.boxplot(x='Status', y='Life expectancy', data=df)\n",
    "plt.title('Life Expectancy by Development Status')\n",
    "plt.show()"
   ]
  },
  {
   "cell_type": "code",
   "execution_count": null,
   "id": "b8c88b93",
   "metadata": {},
   "outputs": [],
   "source": [
    "plt.figure(figsize=(8,6))\n",
    "sns.scatterplot(data=df, x='Alcohol', y='Life expectancy', hue='Status')\n",
    "plt.title('Life Expectancy vs Alcohol')\n",
    "plt.show()"
   ]
  },
  {
   "cell_type": "code",
   "execution_count": null,
   "id": "c4d160fc",
   "metadata": {},
   "outputs": [],
   "source": [
    "plt.figure(figsize=(8,6))\n",
    "sns.scatterplot(data=df, x='Hepatitis B', y='Life expectancy', hue='Status')\n",
    "plt.title('Life Expectancy vs Hepatitis B')\n",
    "plt.show()"
   ]
  },
  {
   "cell_type": "code",
   "execution_count": null,
   "id": "55fb8a53",
   "metadata": {},
   "outputs": [],
   "source": [
    "plt.figure(figsize=(8,6))\n",
    "sns.scatterplot(data=df, x='HIV/AIDS', y='Life expectancy', hue='Status')\n",
    "plt.title('Life Expectancy vs HIV/AIDS')\n",
    "plt.show()"
   ]
  },
  {
   "cell_type": "code",
   "execution_count": null,
   "id": "3f7cad08",
   "metadata": {},
   "outputs": [],
   "source": [
    "# 3D Plot\n",
    "fig = px.scatter_3d(df, x='GDP', y='Schooling', z='Life expectancy',\n",
    "                     color='Status', size='Population')\n",
    "fig.show()"
   ]
  },
  {
   "cell_type": "markdown",
   "id": "f23b0943",
   "metadata": {},
   "source": [
    "### Task 9: Interpretation\n",
    "- Higher GDP and schooling are associated with higher life expectancy.\n",
    "- Developing countries tend to have more outliers and lower average life expectancy.\n",
    "- HIV/AIDS has a strong negative correlation with life expectancy."
   ]
  },
  {
   "cell_type": "markdown",
   "id": "10f7c887",
   "metadata": {},
   "source": [
    "### Task 10: Data Splitting and Model Training"
   ]
  },
  {
   "cell_type": "code",
   "execution_count": null,
   "id": "24cd90b2",
   "metadata": {},
   "outputs": [],
   "source": [
    "features = ['GDP', 'Schooling', 'Alcohol', 'BMI', 'HIV/AIDS']\n",
    "X = df[features]\n",
    "y = df['Life expectancy']\n",
    "\n",
    "X_train, X_test, y_train, y_test = train_test_split(X, y, test_size=0.2, random_state=42)\n",
    "model = LinearRegression()\n",
    "model.fit(X_train, y_train)\n",
    "pred = model.predict(X_test)"
   ]
  },
  {
   "cell_type": "markdown",
   "id": "9656dd37",
   "metadata": {},
   "source": [
    "### Task 11: Cross Validation and Model Evaluation"
   ]
  },
  {
   "cell_type": "code",
   "execution_count": null,
   "id": "bf0dc602",
   "metadata": {},
   "outputs": [],
   "source": [
    "mae = mean_absolute_error(y_test, pred)\n",
    "r2 = r2_score(y_test, pred)\n",
    "cross_val = cross_val_score(model, X, y, cv=5).mean()\n",
    "mae, r2, cross_val"
   ]
  },
  {
   "cell_type": "markdown",
   "id": "6dc87e60",
   "metadata": {},
   "source": [
    "### Task 12: Conclusion and Recommendations\n",
    "- **Key Findings**: Life expectancy is positively influenced by GDP, schooling, and healthcare access. HIV/AIDS is a major negative predictor.\n",
    "- **Model Performance**: The linear model gives reasonable accuracy with cross-validation.\n",
    "- **Recommendation**: Focus on improving education, economic stability, and healthcare to raise life expectancy."
   ]
  }
 ],
 "metadata": {
  "kernelspec": {
   "display_name": "Python(myenv)",
   "language": "python",
   "name": "myenv"
  },
  "language_info": {
   "name": "python",
   "version": "3.11.9"
  }
 },
 "nbformat": 4,
 "nbformat_minor": 5
}
